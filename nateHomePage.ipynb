{
 "cells": [
  {
   "cell_type": "code",
   "execution_count": 22,
   "id": "0116db4f-36f4-4eff-b03e-299537a55a57",
   "metadata": {},
   "outputs": [
    {
     "name": "stdout",
     "output_type": "stream",
     "text": [
      "[<strong>[스텔란티스] 짚랭글러 PHEV 등 2차종 - 고전압배터리 관련 리콜\n",
      "\t\t\t\t\t\t</strong>, <strong>[혼다] GOLDWING - 프라이머리 드라이브 기어 볼트 관련 리콜\n",
      "\t\t\t\t\t\t</strong>, <strong>[비엠더블유] BMW X7 xDrive40i 등 30차종 - 통합제동장치 관련 리콜\n",
      "\t\t\t\t\t\t</strong>, <strong>[비엠더블유] MINI Cooper SE - 고전압배터리 하우징 관련 리콜\n",
      "\t\t\t\t\t\t</strong>, <strong>[비엠더블유] BMW MINI Cooper - 고전압 배터리 셀 모듈 관련 리콜\n",
      "\t\t\t\t\t\t</strong>]\n"
     ]
    }
   ],
   "source": [
    "import urllib\n",
    "from bs4 import BeautifulSoup\n",
    "contents=urllib.request.urlopen('https://www.car.go.kr/ri/stat/list.do').read() \n",
    "soup=BeautifulSoup(contents,'html.parser')\n",
    "strong_tags = soup.select(\"strong\")\n",
    "recalllist=list(soup.select(\"strong\"))\n",
    "print(recalllist)"
   ]
  },
  {
   "cell_type": "code",
   "execution_count": 6,
   "id": "445e4933-a771-4d9f-a4dd-0d552df08448",
   "metadata": {},
   "outputs": [
    {
     "ename": "ImportError",
     "evalue": "cannot import name 'Beautifulsoup' from 'bs4' (C:\\Users\\Admin\\AppData\\Local\\Programs\\Python\\Python313\\Lib\\site-packages\\bs4\\__init__.py)",
     "output_type": "error",
     "traceback": [
      "\u001b[1;31m---------------------------------------------------------------------------\u001b[0m",
      "\u001b[1;31mImportError\u001b[0m                               Traceback (most recent call last)",
      "Cell \u001b[1;32mIn[6], line 2\u001b[0m\n\u001b[0;32m      1\u001b[0m \u001b[38;5;28;01mimport\u001b[39;00m \u001b[38;5;21;01murllib\u001b[39;00m\n\u001b[1;32m----> 2\u001b[0m \u001b[38;5;28;01mfrom\u001b[39;00m \u001b[38;5;21;01mbs4\u001b[39;00m \u001b[38;5;28;01mimport\u001b[39;00m Beautifulsoup\n",
      "\u001b[1;31mImportError\u001b[0m: cannot import name 'Beautifulsoup' from 'bs4' (C:\\Users\\Admin\\AppData\\Local\\Programs\\Python\\Python313\\Lib\\site-packages\\bs4\\__init__.py)"
     ]
    }
   ],
   "source": [
    "import urllib\n",
    "from bs4 import Beautifulsoup"
   ]
  },
  {
   "cell_type": "code",
   "execution_count": 23,
   "id": "e21c1753-0914-462d-972f-7fcab2a1daba",
   "metadata": {},
   "outputs": [
    {
     "name": "stdout",
     "output_type": "stream",
     "text": [
      "['[스텔란티스] 짚랭글러 PHEV 등 2차종 - 고전압배터리 관련 리콜', '[혼다] GOLDWING - 프라이머리 드라이브 기어 볼트 관련 리콜', '[비엠더블유] BMW X7 xDrive40i 등 30차종 - 통합제동장치 관련 리콜', '[비엠더블유] MINI Cooper SE - 고전압배터리 하우징 관련 리콜', '[비엠더블유] BMW MINI Cooper - 고전압 배터리 셀 모듈 관련 리콜']\n"
     ]
    }
   ],
   "source": [
    "import urllib.request\n",
    "from bs4 import BeautifulSoup\n",
    "\n",
    "def extract_strong_texts(url):\n",
    "    html = urllib.request.urlopen(url).read()\n",
    "    soup = BeautifulSoup(html, 'html.parser')\n",
    "    strong_tags = soup.select(\"strong\")\n",
    "    return [tag.get_text(strip=True) for tag in strong_tags]\n",
    "\n",
    "def crawl_all_pages(base_url):\n",
    "    all_recall_texts = []\n",
    "    current_url = base_url\n",
    "\n",
    "    while True:\n",
    "        recall_texts = extract_strong_texts(current_url)\n",
    "        all_recall_texts.extend(recall_texts)\n",
    "\n",
    "        # 다음 페이지 버튼 찾기 (예시: class=\"next\"를 가진 a 태그)\n",
    "        next_page_button = soup.find('a', class_='next')\n",
    "\n",
    "        if next_page_button:\n",
    "            # 다음 페이지 URL 추출 (예시)\n",
    "            current_url = next_page_button['href']\n",
    "        else:\n",
    "            break\n",
    "\n",
    "    return all_recall_texts\n",
    "\n",
    "# 시작 URL\n",
    "base_url = \"https://www.car.go.kr/ri/stat/list.do\"\n",
    "all_data = crawl_all_pages(base_url)\n",
    "\n",
    "print(all_data)"
   ]
  },
  {
   "cell_type": "code",
   "execution_count": 25,
   "id": "4cdc7bb3-4bd9-4864-b865-127fb54929bb",
   "metadata": {},
   "outputs": [
    {
     "name": "stdout",
     "output_type": "stream",
     "text": [
      "['[스텔란티스] 짚랭글러 PHEV 등 2차종 - 고전압배터리 관련 리콜', '[혼다] GOLDWING - 프라이머리 드라이브 기어 볼트 관련 리콜', '[비엠더블유] BMW X7 xDrive40i 등 30차종 - 통합제동장치 관련 리콜', '[비엠더블유] MINI Cooper SE - 고전압배터리 하우징 관련 리콜', '[비엠더블유] BMW MINI Cooper - 고전압 배터리 셀 모듈 관련 리콜', '[스텔란티스] 짚랭글러 PHEV 등 2차종 - 고전압배터리 관련 리콜', '[혼다] GOLDWING - 프라이머리 드라이브 기어 볼트 관련 리콜', '[비엠더블유] BMW X7 xDrive40i 등 30차종 - 통합제동장치 관련 리콜', '[비엠더블유] MINI Cooper SE - 고전압배터리 하우징 관련 리콜', '[비엠더블유] BMW MINI Cooper - 고전압 배터리 셀 모듈 관련 리콜', '[스텔란티스] 짚랭글러 PHEV 등 2차종 - 고전압배터리 관련 리콜', '[혼다] GOLDWING - 프라이머리 드라이브 기어 볼트 관련 리콜', '[비엠더블유] BMW X7 xDrive40i 등 30차종 - 통합제동장치 관련 리콜', '[비엠더블유] MINI Cooper SE - 고전압배터리 하우징 관련 리콜', '[비엠더블유] BMW MINI Cooper - 고전압 배터리 셀 모듈 관련 리콜', '[스텔란티스] 짚랭글러 PHEV 등 2차종 - 고전압배터리 관련 리콜', '[혼다] GOLDWING - 프라이머리 드라이브 기어 볼트 관련 리콜', '[비엠더블유] BMW X7 xDrive40i 등 30차종 - 통합제동장치 관련 리콜', '[비엠더블유] MINI Cooper SE - 고전압배터리 하우징 관련 리콜', '[비엠더블유] BMW MINI Cooper - 고전압 배터리 셀 모듈 관련 리콜', '[스텔란티스] 짚랭글러 PHEV 등 2차종 - 고전압배터리 관련 리콜', '[혼다] GOLDWING - 프라이머리 드라이브 기어 볼트 관련 리콜', '[비엠더블유] BMW X7 xDrive40i 등 30차종 - 통합제동장치 관련 리콜', '[비엠더블유] MINI Cooper SE - 고전압배터리 하우징 관련 리콜', '[비엠더블유] BMW MINI Cooper - 고전압 배터리 셀 모듈 관련 리콜']\n"
     ]
    }
   ],
   "source": [
    "import urllib.request\n",
    "from bs4 import BeautifulSoup\n",
    "\n",
    "def get_page_url(page_num):\n",
    "    base_url = \"https://www.car.go.kr/ri/stat/list.do\"\n",
    "    if page_num > 1:\n",
    "        return f\"{base_url}?page={page_num}\"\n",
    "    else:\n",
    "        return base_url\n",
    "\n",
    "def extract_strong_texts(url):\n",
    "    html = urllib.request.urlopen(url).read()\n",
    "    soup = BeautifulSoup(html, 'html.parser')\n",
    "    strong_tags = soup.select(\"strong\")\n",
    "    return [tag.get_text(strip=True) for tag in strong_tags]\n",
    "\n",
    "# 총 페이지 수: 5\n",
    "total_pages = 5\n",
    "all_recall_texts = []\n",
    "\n",
    "for page in range(1, total_pages + 1):\n",
    "    page_url = get_page_url(page)\n",
    "    recall_texts = extract_strong_texts(page_url)\n",
    "    all_recall_texts.extend(recall_texts)\n",
    "\n",
    "print(all_recall_texts)"
   ]
  },
  {
   "cell_type": "code",
   "execution_count": null,
   "id": "56e797b6-2c13-4b84-96ec-60b3ae62b647",
   "metadata": {},
   "outputs": [],
   "source": []
  }
 ],
 "metadata": {
  "kernelspec": {
   "display_name": "Python 3 (ipykernel)",
   "language": "python",
   "name": "python3"
  },
  "language_info": {
   "codemirror_mode": {
    "name": "ipython",
    "version": 3
   },
   "file_extension": ".py",
   "mimetype": "text/x-python",
   "name": "python",
   "nbconvert_exporter": "python",
   "pygments_lexer": "ipython3",
   "version": "3.13.1"
  }
 },
 "nbformat": 4,
 "nbformat_minor": 5
}
