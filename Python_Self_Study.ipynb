{
 "cells": [
  {
   "cell_type": "markdown",
   "id": "1cd71fce-82c8-4178-9c7f-d55968a83882",
   "metadata": {},
   "source": [
    "# 파이썬 시작하기"
   ]
  },
  {
   "cell_type": "markdown",
   "id": "ad02550a-f38c-444f-8acc-e05bd1155983",
   "metadata": {},
   "source": [
    "# 자료형"
   ]
  },
  {
   "cell_type": "markdown",
   "id": "35500ba9-7c48-49b3-8e9d-a378d3a38949",
   "metadata": {},
   "source": [
    "## 자료형과 문자열"
   ]
  },
  {
   "cell_type": "markdown",
   "id": "1ae85af4-a560-4605-b049-7d95dccad8d8",
   "metadata": {},
   "source": [
    "### 자료형과 기본 자료형"
   ]
  },
  {
   "cell_type": "markdown",
   "id": "7984ae96-c789-4bd6-9b62-d88b95f84966",
   "metadata": {},
   "source": [
    "- 문자열 : 일반적인 글자로 이루어진 문장들, 예) Hello World!\n",
    "- 숫자 : 예) 1,2,3, 34, ...etc\n",
    "- bool : True, False"
   ]
  },
  {
   "cell_type": "markdown",
   "id": "7b8eeab7-0220-4fb3-9652-8f3250fc270d",
   "metadata": {},
   "source": [
    "### 자료형 확인하기\n",
    "- 자료형(data type) 이란 자료의 형식을 의미하며, 파이썬에서는 type() 함술ㄹ 사용하여 확인함."
   ]
  },
  {
   "cell_type": "code",
   "execution_count": 17,
   "id": "f4c63e93-3af1-4ad4-bd4a-e7c71b72f7c4",
   "metadata": {},
   "outputs": [
    {
     "name": "stdout",
     "output_type": "stream",
     "text": [
      "<class 'str'>\n"
     ]
    }
   ],
   "source": [
    "print(type(\"안녕하세요\")) # <class 'str'>"
   ]
  },
  {
   "cell_type": "markdown",
   "id": "0ab9114c-69ea-4fb2-b69c-dc82c49ba832",
   "metadata": {},
   "source": [
    "### 문자열 만들기"
   ]
  },
  {
   "cell_type": "markdown",
   "id": "4aa8fffd-eaae-41f9-add1-e89acd73ca46",
   "metadata": {},
   "source": [
    "#### 큰따옴표 또는 작은따옴표로 문자열 만들기"
   ]
  },
  {
   "cell_type": "code",
   "execution_count": 20,
   "id": "4275dcb2-9b1f-4923-9ed7-87c1cb930669",
   "metadata": {},
   "outputs": [
    {
     "name": "stdout",
     "output_type": "stream",
     "text": [
      "안녕하세요\n",
      "Hello Python World!\n"
     ]
    }
   ],
   "source": [
    "print(\"안녕하세요\") # 안녕하세요\n",
    "print('Hello Python World!') # Hello Python World!"
   ]
  },
  {
   "cell_type": "markdown",
   "id": "1aa59148-6ad7-4903-a613-bda1cdc77f60",
   "metadata": {},
   "source": [
    "#### 문자열 내부에 따옴표 넣기"
   ]
  },
  {
   "cell_type": "code",
   "execution_count": 23,
   "id": "a91fbd42-a2d6-4779-bc7b-a73ba39e1ec2",
   "metadata": {},
   "outputs": [
    {
     "name": "stdout",
     "output_type": "stream",
     "text": [
      "\"안녕하세요\"라고 말했습니다.\n",
      "'안녕하세요'라고 말했습니다.\n"
     ]
    }
   ],
   "source": [
    "print('\"안녕하세요\"라고 말했습니다.') # \"안녕하세요\"라고 말했습니다.\n",
    "print(\"'안녕하세요'라고 말했습니다.\") # '안녕하세요'라고 말했습니다."
   ]
  },
  {
   "cell_type": "code",
   "execution_count": 25,
   "id": "e55e7d16-98b3-4fc3-839c-650732120237",
   "metadata": {
    "collapsed": true,
    "jupyter": {
     "outputs_hidden": true
    }
   },
   "outputs": [
    {
     "ename": "SyntaxError",
     "evalue": "invalid syntax. Perhaps you forgot a comma? (2969480764.py, line 1)",
     "output_type": "error",
     "traceback": [
      "\u001b[1;36m  Cell \u001b[1;32mIn[25], line 1\u001b[1;36m\u001b[0m\n\u001b[1;33m    print(''안녕하세요'라고 말했습니다.')  # 오류발생. ' \"\" ', 또는 \" ' ' \" 형식의 따옴표를 이용해야함다.\u001b[0m\n\u001b[1;37m          ^\u001b[0m\n\u001b[1;31mSyntaxError\u001b[0m\u001b[1;31m:\u001b[0m invalid syntax. Perhaps you forgot a comma?\n"
     ]
    }
   ],
   "source": [
    "print(''안녕하세요'라고 말했습니다.')  \n",
    "# 오류발생. ' \"\" ', 또는 \" ' ' \" 형식의 따옴표를 이용해야함다."
   ]
  },
  {
   "cell_type": "markdown",
   "id": "67166da9-d51b-4c54-9a6a-61db6157291a",
   "metadata": {},
   "source": [
    "#### 이스케이프(Escape) 문자를 사용해 문자열 만들기\n",
    "- Escape 문자 : 역슬래시(\\) 기호와 함께 조합해서 사용하는 특수한 문자를 말함.\n",
    "- \\\" : 단순한 큰따옴표를 의미.\n",
    "- \\' : 단순한 작은따옴표를 의미.\n",
    "- \\t : tap 표시\n",
    "- \\n : new line. 줄바꿈"
   ]
  },
  {
   "cell_type": "code",
   "execution_count": 27,
   "id": "08e6dfe1-000e-4161-b0db-f0e9c7e8d178",
   "metadata": {},
   "outputs": [
    {
     "name": "stdout",
     "output_type": "stream",
     "text": [
      "\"안녕하세요\"라고 말했습니다.\n"
     ]
    }
   ],
   "source": [
    "print(\"\\\"안녕하세요\\\"라고 말했습니다.\") # \"안녕하세요\"라고 말했습니다."
   ]
  },
  {
   "cell_type": "markdown",
   "id": "8ea99407-d103-44ea-b6ff-f7c7b91f3805",
   "metadata": {},
   "source": [
    "#### 줄바꿈 없이 문자열 만들기"
   ]
  },
  {
   "cell_type": "code",
   "execution_count": 30,
   "id": "eed48848-8af3-4234-9e0c-64d8a33922f2",
   "metadata": {},
   "outputs": [
    {
     "name": "stdout",
     "output_type": "stream",
     "text": [
      "\n",
      "동해물과 백두산이 마르고 닳도록\n",
      "하느님이 보우하사 우리나라 만세\n",
      "\n",
      "무궁화 삼천리\n",
      "\n"
     ]
    }
   ],
   "source": [
    "# '''    ''' : 이 안에 문장을 입력하면 입력한 형태 그대로 문자열로 인식됨.\n",
    "print('''\n",
    "동해물과 백두산이 마르고 닳도록\n",
    "하느님이 보우하사 우리나라 만세\n",
    "\n",
    "무궁화 삼천리\n",
    "''')"
   ]
  },
  {
   "cell_type": "markdown",
   "id": "dd4f06a7-cf98-4627-a1a5-c51b861e1c32",
   "metadata": {},
   "source": [
    "#### 문자열 연산자\n",
    "- + , * 연산 : 지원됨.\n",
    "- -, / 연산 : 지원되지 않음.\n",
    "- 문자 선택 연산자(인덱싱) [] : 지원됨."
   ]
  },
  {
   "cell_type": "code",
   "execution_count": 32,
   "id": "f2638991-da64-43b4-aca7-868b14e06360",
   "metadata": {},
   "outputs": [
    {
     "name": "stdout",
     "output_type": "stream",
     "text": [
      "한글국어\n"
     ]
    }
   ],
   "source": [
    "print(\"한글\"+\"국어\")   # \"한글\" 과 \"국어\" 를 단순히 연결하는 연산자 \"+\""
   ]
  },
  {
   "cell_type": "code",
   "execution_count": 34,
   "id": "b188cfa4-47cd-4d0d-a063-076bb1c85068",
   "metadata": {},
   "outputs": [
    {
     "name": "stdout",
     "output_type": "stream",
     "text": [
      "한글한글한글\n"
     ]
    }
   ],
   "source": [
    "print(\"한글\"*3)  # \"*\" 연산자 : \"한글\"*3 = \"한글한글한글\""
   ]
  },
  {
   "cell_type": "code",
   "execution_count": 35,
   "id": "f9f7bf71-a361-4aa6-bf74-57dc1a25d0d7",
   "metadata": {
    "collapsed": true,
    "jupyter": {
     "outputs_hidden": true
    }
   },
   "outputs": [
    {
     "ename": "TypeError",
     "evalue": "unsupported operand type(s) for -: 'str' and 'str'",
     "output_type": "error",
     "traceback": [
      "\u001b[1;31m---------------------------------------------------------------------------\u001b[0m",
      "\u001b[1;31mTypeError\u001b[0m                                 Traceback (most recent call last)",
      "Cell \u001b[1;32mIn[35], line 1\u001b[0m\n\u001b[1;32m----> 1\u001b[0m \u001b[38;5;28mprint\u001b[39m(\u001b[38;5;124;43m\"\u001b[39;49m\u001b[38;5;124;43m한글만세\u001b[39;49m\u001b[38;5;124;43m\"\u001b[39;49m\u001b[38;5;241;43m-\u001b[39;49m\u001b[38;5;124;43m\"\u001b[39;49m\u001b[38;5;124;43m만세\u001b[39;49m\u001b[38;5;124;43m\"\u001b[39;49m)\n",
      "\u001b[1;31mTypeError\u001b[0m: unsupported operand type(s) for -: 'str' and 'str'"
     ]
    }
   ],
   "source": [
    "print(\"한글만세\"-\"만세\")   # 문자열의 \"-\" 및 \"/\" 연산은 지원되지 않음."
   ]
  },
  {
   "cell_type": "code",
   "execution_count": 39,
   "id": "d97e36a8-9cff-4508-aa18-45186e9cc6a6",
   "metadata": {},
   "outputs": [
    {
     "name": "stdout",
     "output_type": "stream",
     "text": [
      "문자 선택 연산자에 대해 알아봅시다.\n",
      "a\n",
      "b\n",
      "cdefg\n"
     ]
    }
   ],
   "source": [
    "print(\"문자 선택 연산자에 대해 알아봅시다.\")\n",
    "print(\"abcdefg\"[0])\n",
    "print(\"abcdefg\"[1])\n",
    "print(\"abcdefg\"[2:])   # 슬라이싱"
   ]
  },
  {
   "cell_type": "markdown",
   "id": "2a2e125a-1cfa-49b0-a5fc-b060d6bfa3a1",
   "metadata": {},
   "source": [
    "#### 문자열의 길이 구하기\n",
    "- len() 함수 사용"
   ]
  },
  {
   "cell_type": "code",
   "execution_count": 40,
   "id": "aae1ff6d-ab36-495d-9cbe-ca7c6252573a",
   "metadata": {},
   "outputs": [
    {
     "name": "stdout",
     "output_type": "stream",
     "text": [
      "5\n"
     ]
    }
   ],
   "source": [
    "print(len(\"안녕하세요\"))  # 문자열의 길이인 5가 반환됨."
   ]
  },
  {
   "cell_type": "code",
   "execution_count": null,
   "id": "702c293b-e7a9-4e52-9353-ce617cb91662",
   "metadata": {},
   "outputs": [],
   "source": []
  },
  {
   "cell_type": "markdown",
   "id": "392f1d69-5335-4c19-811e-7fce7065aae7",
   "metadata": {
    "jp-MarkdownHeadingCollapsed": true
   },
   "source": [
    "## 단순 자료형"
   ]
  },
  {
   "cell_type": "markdown",
   "id": "73be517b-7875-4b6f-8c7e-8219d1921110",
   "metadata": {},
   "source": [
    "### 숫자 Number\n",
    "- int 정수\n",
    "- float 실수\n",
    "- complex 복소수 a + bj, 여기서 j 는 허수를 표기함.\n",
    "- 8진수, 16진수  ; 0o수(0~7)(0o Octal, 8진수 표기),  0x수(0 ~ 16(H))"
   ]
  },
  {
   "cell_type": "markdown",
   "id": "3703ea87-f428-457a-8542-bb6f5e68595b",
   "metadata": {},
   "source": [
    "- int  정수"
   ]
  },
  {
   "cell_type": "code",
   "execution_count": 74,
   "id": "f773bd7d-e1c3-4098-ab1c-1c2696ad28db",
   "metadata": {},
   "outputs": [
    {
     "name": "stdout",
     "output_type": "stream",
     "text": [
      "<class 'int'>\n",
      "<class 'int'>\n"
     ]
    }
   ],
   "source": [
    "# 정수 int\n",
    "a = 123\n",
    "b = -123\n",
    "print(type(a))\n",
    "print(type(b))"
   ]
  },
  {
   "cell_type": "markdown",
   "id": "bf85207e-34e1-42d3-af88-7f28cf34acbf",
   "metadata": {},
   "source": [
    "    > 정수의 사칙연산\n",
    "    > +, -, *, /\n",
    "        >> int / int ==> float 로 변경 됨.\n",
    "        >> int * int => int 로 유지\n",
    "        >> int + int => int 로 유지\n",
    "        >> int - int => int 로 유지"
   ]
  },
  {
   "cell_type": "code",
   "execution_count": 75,
   "id": "e408ff23-db65-4d3d-a4c4-557d113d5ff8",
   "metadata": {},
   "outputs": [
    {
     "name": "stdout",
     "output_type": "stream",
     "text": [
      "7\n",
      "1\n",
      "12\n",
      "1.3333333333333333\n",
      "<class 'int'>\n",
      "<class 'float'>\n",
      "<class 'float'>\n",
      "<class 'int'>\n"
     ]
    }
   ],
   "source": [
    "a=4\n",
    "b = 3\n",
    "c = 2\n",
    "print(4+3)\n",
    "print(4-3)\n",
    "print(4*3)\n",
    "print(4/3)\n",
    "print(type(a*b))\n",
    "print(type(a/b)) \n",
    "print(type(a/c))\n",
    "print(type(a-b))"
   ]
  },
  {
   "cell_type": "code",
   "execution_count": 116,
   "id": "a722a555-06d9-41fe-98ae-a19d962608d3",
   "metadata": {},
   "outputs": [
    {
     "name": "stdout",
     "output_type": "stream",
     "text": [
      "0o11\n",
      "(8+5j)\n",
      "5.0\n"
     ]
    },
    {
     "data": {
      "text/plain": [
       "5.0"
      ]
     },
     "execution_count": 116,
     "metadata": {},
     "output_type": "execute_result"
    }
   ],
   "source": [
    "import math as m\n",
    "print(oct(9))       # 10진수 9를 8진수로 표현하면 0o11 이 됨.\n",
    "hex(12)      # 10진수 12를 16진수로 표현하면 0xc 가 됨.\n",
    "\n",
    "print((3+4j)+(5+1j))\n",
    "type((3+4j)+(5+1j))\n",
    "print(abs(3+4j))\n",
    "m.sqrt(pow(3,2)+pow(4,2))    # math 라이브러리의 math.pow(x,y) = x^y 를 의미."
   ]
  },
  {
   "cell_type": "markdown",
   "id": "ea02ba47-2e6c-4494-95d4-de7bfbe1b7b2",
   "metadata": {},
   "source": [
    "- 실수 floating 소수점이 있는 수\n",
    "    >\n",
    "    > 실수 형태\n",
    "        >> 123.45\n",
    "        >> 123e3 : 123*10^3 의미\n",
    "        >> 123e-3 : 123*10^-3"
   ]
  },
  {
   "cell_type": "markdown",
   "id": "a775b4c0-0930-4068-9511-574b95e11c33",
   "metadata": {},
   "source": [
    "    > 실수의 4칙연산\n",
    "      >> +, -, * , / 모두 가능함.\n",
    "      >> \n",
    "      "
   ]
  },
  {
   "cell_type": "code",
   "execution_count": 77,
   "id": "6c687d67-83a2-4211-9d13-a65be5fc0065",
   "metadata": {},
   "outputs": [
    {
     "data": {
      "text/plain": [
       "9.0"
      ]
     },
     "execution_count": 77,
     "metadata": {},
     "output_type": "execute_result"
    }
   ],
   "source": [
    "4.0 + 5.0"
   ]
  },
  {
   "cell_type": "code",
   "execution_count": 78,
   "id": "533e2d08-2c72-4455-99bb-c9d362dc67cd",
   "metadata": {},
   "outputs": [
    {
     "name": "stdout",
     "output_type": "stream",
     "text": [
      "7.0\n",
      "1.0\n",
      "12.0\n",
      "1.3333333333333333\n",
      "<class 'float'>\n",
      "<class 'float'>\n",
      "<class 'float'>\n",
      "<class 'float'>\n"
     ]
    }
   ],
   "source": [
    "a=4.\n",
    "b = 3.\n",
    "c = 2.\n",
    "print(4.+3.)\n",
    "print(4.-3.)\n",
    "print(4.*3.)\n",
    "print(4./3.)\n",
    "print(type(a*b))\n",
    "print(type(a/b)) \n",
    "print(type(a/c))\n",
    "print(type(a-b))"
   ]
  },
  {
   "cell_type": "markdown",
   "id": "1834dc7d-30b0-45ad-8f9e-8d1c474e08e7",
   "metadata": {
    "jp-MarkdownHeadingCollapsed": true
   },
   "source": [
    "### 문자열 String"
   ]
  },
  {
   "cell_type": "markdown",
   "id": "9e40ec9d-ebb2-423e-8c6f-7e49bb97d010",
   "metadata": {},
   "source": [
    "#### 문자열 입력, 수정, 삭제, 추가\n",
    "    > 문자열 표시 : \"abcd\" 또는 'abcd' 와 같이 \" \", ' ' 안에 표기하면 문자열로 인식하게 됨.\n",
    "    > 문자열의 할당 : a = \"abcd\"  또는 'abcd'"
   ]
  },
  {
   "cell_type": "code",
   "execution_count": 44,
   "id": "895fded4-608b-4af5-8c97-6b511351915b",
   "metadata": {},
   "outputs": [
    {
     "name": "stdout",
     "output_type": "stream",
     "text": [
      "<class 'str'>\n",
      "<class 'str'>\n"
     ]
    }
   ],
   "source": [
    "a = \"abcd\"           # a 라는 변수에 문자열 \"abcd\" 를 할당.\n",
    "b = '1234'           # b 라는 변수에 문자열 '1234' 를 할당. 숫자를 ' ' 안에 표기하여 비록 숫자이지만 문자로 간주.\n",
    "print(type(a))       # a 라는 변수에 저장되어 있는 내용이 어떤 형태의 자료형인지를 출력, * str : 문자열 자료형\n",
    "print(type(b))"
   ]
  },
  {
   "cell_type": "code",
   "execution_count": 45,
   "id": "4400e6ab-4331-4349-9fef-b90d253fc5c2",
   "metadata": {
    "scrolled": true
   },
   "outputs": [
    {
     "name": "stdout",
     "output_type": "stream",
     "text": [
      " abcde\n",
      "  fghg\n",
      "\n",
      "<class 'str'>\n",
      "c <class 'str'>\n",
      "abc'def\"한글\n",
      "d <class 'str'>\n",
      "abc\"def\" 한글\n",
      "e <class 'str'>\n",
      "국제' 한글\n",
      "f <class 'str'>\n"
     ]
    }
   ],
   "source": [
    "c = \"\"\" abcde\n",
    "  fghg\n",
    "\"\"\"                         # c 라는 변수에 \"\"\"  \"\"\" 안에 문자열을 표기하여 입력한 대로 문자열을 할당하는 방법.\n",
    "d = 'abc\\'def\\\"한글'        # 문자열 안에 ' 또는 \" 의 표기가 필요할 경우는 escape 문자인 \\ 뒤에 \\' , \\\" 로 표기하여 문자로 인식하게 함.\n",
    "e = 'abc\"def\" 한글'\n",
    "f = \"국제' 한글\"\n",
    "print(c)\n",
    "print(type(c))\n",
    "print(\"c\", type(c))\n",
    "print(d)\n",
    "print(\"d\",type(d))\n",
    "print(e)\n",
    "print(\"e\",type(e))\n",
    "print(f)\n",
    "print(\"f\",type(f))"
   ]
  },
  {
   "cell_type": "markdown",
   "id": "6bf6e27c-63e4-47a2-a167-cb575b7721a3",
   "metadata": {},
   "source": [
    "- 문자열의 위치 지정 슬라이싱"
   ]
  },
  {
   "cell_type": "code",
   "execution_count": 46,
   "id": "8a8065e5-fded-42e6-a76f-eb45c472d8a5",
   "metadata": {},
   "outputs": [
    {
     "name": "stdout",
     "output_type": "stream",
     "text": [
      "세\n",
      "계\n",
      "래\n",
      "계의 미래\n",
      "세\n"
     ]
    }
   ],
   "source": [
    "a = \"세계의 미래\"\n",
    "print(a[0])           # 리스트 츠럼 문자열의 위치를 리스트의 요소 지정방식과 같이 지정하여 출력 할 수 있음.\n",
    "print(a[1])\n",
    "print(a[-1])\n",
    "print(a[1:])          # 슬라이싱 표기를 이용하여 1번 위치의 문제에서 부터 끝까지 출려\n",
    "print(a[:-5])         # 슬라이싱 표기 [시작위치 : 정지위치]  , 시작위치는 0 부터 시작하여 표기시 포함, 정지위치는 출력에 포함되지 않음.\n"
   ]
  },
  {
   "cell_type": "markdown",
   "id": "6860a275-0cc3-4581-9028-1e853467c975",
   "metadata": {},
   "source": [
    "- 입력, 추가, 삭제, 수정"
   ]
  },
  {
   "cell_type": "code",
   "execution_count": 95,
   "id": "7baa2e15-419d-40c9-82d4-8adcd9693219",
   "metadata": {},
   "outputs": [
    {
     "name": "stdout",
     "output_type": "stream",
     "text": [
      "abcdefg\n",
      "\n",
      "\n",
      "인생은시간\n",
      "\n",
      "\n",
      "\n",
      "한\n",
      "인생은시간\n"
     ]
    }
   ],
   "source": [
    "a = 'abcdefg'      # 문자열 입력\n",
    "print(a)\n",
    "print()\n",
    "print()\n",
    "\n",
    "print(b)\n",
    "print()\n",
    "print()\n",
    "\n",
    "a = ''             # 빈 문자열을 입력하여 기존 문자열 전체를 삭제. 일부 수정은 문자열 메소드인 str.replace('old', 'new', count=1 또는 -1)\n",
    "                   # count=1 이면 매칭되는 첫 올드 문자열이 뉴 문자열로 한번만 바뀜. count=-1 은 디폴트로 매칭되는 올드 모든 문자열이 치환됨.\n",
    "print(a)\n",
    "a = '한글' \n",
    "print(a[0])        \n",
    "a = \"인생은 길고 시간은 화살과 같다. 즉 인생도 화살과 같이 빨리 흘러간다\"\n",
    "b = a[0:3]+a[7:9]  # 문자열은 리스트로 처리되며, 본 코드와 같이 슬라이싱 또는 특정 위치를 지정하여 표기할 수 있다.\n",
    "print(b)"
   ]
  },
  {
   "cell_type": "code",
   "execution_count": 109,
   "id": "30bc94ef-ec4f-4f6a-9b35-3f23419334e3",
   "metadata": {},
   "outputs": [
    {
     "name": "stdout",
     "output_type": "stream",
     "text": [
      "rnr글\n",
      "동해물과 back두산이 backbackback\n"
     ]
    }
   ],
   "source": [
    "# 문자열의 일부를 수정하기 위한 문자열 메소드 replace()\n",
    "# str.replace('old', 'new', count=1 또는 -1)\n",
    "# count=1 이면 매칭되는 첫 올드 문자열이 뉴 문자열로 한번만 바뀜. count=-1 은 디폴트로 매칭되는 올드 모든 문자열이 치환됨.\n",
    "\n",
    "b = '한글'                       # 문자열 전체 치환\n",
    "b.replace('한','rnr')            # '한' 을 'rnr' 로 치환하여 출력은 하지만 b 의 내용을 변경하지는 않음.\n",
    "b = b.replace('한','rnr') \n",
    "print(b)\n",
    "\n",
    "c = '동해물과 백두산이 백백백'\n",
    "c = c.replace('백', 'back')      \n",
    "print(c)"
   ]
  },
  {
   "cell_type": "markdown",
   "id": "f230a857-d5d1-4a8a-9262-92ebe28cf315",
   "metadata": {},
   "source": [
    "#### 문자열의 사칙연산(+, - , *, /)"
   ]
  },
  {
   "cell_type": "markdown",
   "id": "7e3d271c-5a6d-4d09-8cda-ce5377dc8213",
   "metadata": {},
   "source": [
    "    > + 연산  : 문자열과 문자열을 연결함. 즉 \"abc\" + \"bcd\" = \"abcbcd\"\n",
    "    > - 연산  : 문자열의 - 연산은 불가 함."
   ]
  },
  {
   "cell_type": "code",
   "execution_count": 48,
   "id": "1ff16536-50a8-4be2-a538-ad04b2032f85",
   "metadata": {},
   "outputs": [
    {
     "name": "stdout",
     "output_type": "stream",
     "text": [
      "동해물백두산\n",
      "동해물 백두산\n"
     ]
    }
   ],
   "source": [
    "# + 연산\n",
    "a = \"동해물\"\n",
    "b = \"백두산\"\n",
    "c = a + b\n",
    "d = a + \" \" + b\n",
    "print(c)\n",
    "print(d)"
   ]
  },
  {
   "cell_type": "markdown",
   "id": "65c4e5d7-fa9d-4484-bb86-349c9185378a",
   "metadata": {},
   "source": [
    "    > - 연산\n"
   ]
  },
  {
   "cell_type": "code",
   "execution_count": 49,
   "id": "a28ebc17-9c8f-4705-8a03-6fce5bdb5829",
   "metadata": {},
   "outputs": [],
   "source": [
    "a = \"동해물\"\n",
    "b = \"백두산\"\n",
    "# a-b               # TypeError: unsupported operand type(s) for -: 'str' and 'str'. 문자열의 - 연산은 지원되지 않고 오류 발생됨."
   ]
  },
  {
   "cell_type": "markdown",
   "id": "d18978fc-7c52-4d1f-96a1-b284d251a0f9",
   "metadata": {},
   "source": [
    "    > * 연산 : 문자열 * 수 = 수만의의 문자열을 연결하여 붙이기.\n",
    "               문자열 * 문자열 연산은 불가함.\n",
    "    > / 연산 : 불가"
   ]
  },
  {
   "cell_type": "code",
   "execution_count": 50,
   "id": "ccc616fe-9515-4c49-a2e8-e5a13320f7e8",
   "metadata": {},
   "outputs": [
    {
     "name": "stdout",
     "output_type": "stream",
     "text": [
      "한글한글한글\n",
      "\n"
     ]
    }
   ],
   "source": [
    "# * (곱) 연산\n",
    "a = '한글'\n",
    "b = 'word'\n",
    "# a * b           # 문자열 * x 에서 x 는 int(정수) 만 가능함.\n",
    "print(a*3)        # \"abc\" * 3 = \"abcabcabc\", 즉 문자열 * n 은 문자열을 n번 연결하는 것 의미\n",
    "print(a*0)"
   ]
  },
  {
   "cell_type": "code",
   "execution_count": 51,
   "id": "fd031ca2-cadc-43bf-934c-a43ee140b483",
   "metadata": {},
   "outputs": [],
   "source": [
    "# /(나누기) 연산\n",
    "a = '한글'\n",
    "b = 'word'\n",
    "# a / b             # 문자열 / 문자열 : 계산불가, Error\n",
    "# a/3               # 문자열 / 수 : 계산불가, Error"
   ]
  },
  {
   "cell_type": "markdown",
   "id": "f1215fcd-890c-4408-a037-3fe8e8bff064",
   "metadata": {
    "jp-MarkdownHeadingCollapsed": true
   },
   "source": [
    "### 논리형 bool type\n",
    "> 0 : False\n",
    "> \n",
    "> 0 이 아닌 수 : True"
   ]
  },
  {
   "cell_type": "code",
   "execution_count": 52,
   "id": "a2d3b77b-33e5-41df-a3fe-02fa813d6c4b",
   "metadata": {},
   "outputs": [
    {
     "name": "stdout",
     "output_type": "stream",
     "text": [
      "True\n",
      "True\n",
      "False\n",
      "False\n",
      "1+1j True\n",
      "list a True\n",
      "tuple b True\n"
     ]
    }
   ],
   "source": [
    "print(bool(1.0))\n",
    "print(bool(-1.0))\n",
    "print(bool(0))\n",
    "print(bool(0.))\n",
    "# print(bool(aaa)) bool(xxx) xxx 로 대입가능한 종류는 문자는 안되고 나머지 자료형 모두 가능 함.\n",
    "a =['a', 33, 'c']\n",
    "b = ('ccc', 'bbb')\n",
    "print('1+1j',bool(1+1j))\n",
    "print('list a', bool(a))\n",
    "print('tuple b',bool(b))"
   ]
  },
  {
   "cell_type": "markdown",
   "id": "b0808dd8-9241-47b6-b432-1f3c5c66cdd6",
   "metadata": {},
   "source": [
    "#### 논리형 4칙연산\n"
   ]
  },
  {
   "cell_type": "code",
   "execution_count": 53,
   "id": "d4f28a70-ad9a-488a-9e29-cd844f0b5791",
   "metadata": {},
   "outputs": [
    {
     "name": "stdout",
     "output_type": "stream",
     "text": [
      "f type <class 'bool'>\n",
      "t type <class 'bool'>\n",
      "True * False <class 'int'>\n"
     ]
    }
   ],
   "source": [
    "# bool x bool  연산\n",
    "f = False     # 0\n",
    "t = True      # 1\n",
    "print('f type',type(f))\n",
    "print('t type', type(t))\n",
    "print('True * False', type(True * False))"
   ]
  },
  {
   "cell_type": "code",
   "execution_count": 54,
   "id": "233ad49c-c6fc-48b2-9292-685e010ecae0",
   "metadata": {},
   "outputs": [
    {
     "name": "stdout",
     "output_type": "stream",
     "text": [
      "False / True =  0.0\n",
      "bool(a) / bool(b) =  1.0\n"
     ]
    }
   ],
   "source": [
    "# bool / bool 연산\n",
    "# False 는 0 으로 치환되어 계산되고 True 는 1 로 치환되어 계산됨.\n",
    "print('False / True = ',False / True)\n",
    "# print('True / False = ', True/False) # 1/0 의 계산이므로 Error 발생 됨.\n",
    "a =['a', 33, 'c']\n",
    "b = ('ccc', 'bbb')\n",
    "print('bool(a) / bool(b) = ', bool(a)/bool(b))\n"
   ]
  },
  {
   "cell_type": "code",
   "execution_count": null,
   "id": "13cbaff8-a273-490d-b4d2-ff2a3161b481",
   "metadata": {},
   "outputs": [],
   "source": []
  },
  {
   "cell_type": "code",
   "execution_count": null,
   "id": "852b00c5-bb0e-4378-8073-ed1316182b8a",
   "metadata": {},
   "outputs": [],
   "source": []
  },
  {
   "cell_type": "code",
   "execution_count": null,
   "id": "adb12474-feba-4241-bcbc-c35973b40bf2",
   "metadata": {},
   "outputs": [],
   "source": []
  },
  {
   "cell_type": "code",
   "execution_count": null,
   "id": "96349138-1f86-4fda-9286-9cab5c911769",
   "metadata": {},
   "outputs": [],
   "source": []
  },
  {
   "cell_type": "markdown",
   "id": "27847d97-d414-4d18-8fe0-8e7c27f2f3f1",
   "metadata": {},
   "source": [
    "  > bool 형의 사칙연산 : +, - , * , /"
   ]
  },
  {
   "cell_type": "code",
   "execution_count": null,
   "id": "7c04b346-ccb2-415e-b2bc-f34188206dee",
   "metadata": {},
   "outputs": [],
   "source": []
  },
  {
   "cell_type": "code",
   "execution_count": null,
   "id": "188292ac-3cf9-4fb0-8ea5-bf998027429c",
   "metadata": {},
   "outputs": [],
   "source": []
  },
  {
   "cell_type": "markdown",
   "id": "4991d796-9145-4633-9c2b-f698eced85d9",
   "metadata": {},
   "source": [
    "## 파이썬 고유의 자료형 (복합자료형)"
   ]
  },
  {
   "cell_type": "markdown",
   "id": "2e2795fb-0957-443d-86d8-f79d27df3e2b",
   "metadata": {},
   "source": [
    "### 리스트 list\n",
    "\n",
    "lass list([iterable])\r\n",
    "리스트는 여러 가지 방법으로 만들 수 있습니다:\r\n",
    "\r\n",
    "대괄호를 사용하여 빈 리스트를 표시하기: []\r\n",
    "\r\n",
    "대괄호를 사용하여 쉼표로 항목 구분하기: [a], [a, b, c]\r\n",
    "\r\n",
    "리스트 컴프리헨션 사용하기: [x for x in iterable]\r\n",
    "\r\n",
    "형 생성자를 사용하기: list() 또는 list(iterable)"
   ]
  },
  {
   "cell_type": "markdown",
   "id": "1d974049-f83e-499e-a827-1795ae8e0800",
   "metadata": {},
   "source": [
    "#### 리스트 선언 및 리스트 요소 입력\n",
    "- a = []\n",
    "- a = [1,2,3,'a',True,(3,4)]"
   ]
  },
  {
   "cell_type": "code",
   "execution_count": 57,
   "id": "582cc67a-9bdf-402a-8d87-415d7934906e",
   "metadata": {},
   "outputs": [],
   "source": [
    "a = []\n",
    "b = [1,2,3,'a',True,(3,4)] # 리스트의 각 요소는 수자, 문자, 리스트, 튜플, 세트, 불 등 제한이 없음."
   ]
  },
  {
   "cell_type": "markdown",
   "id": "5504116d-ea29-4216-9d9a-f2b6f1467292",
   "metadata": {},
   "source": [
    "- 리스트 수정"
   ]
  },
  {
   "cell_type": "markdown",
   "id": "ba9995e4-7a0f-4539-9123-2d82d0c44694",
   "metadata": {},
   "source": [
    "#### 리스트 수정\n",
    "- 리스트의 인덱싱과 슬라이싱"
   ]
  },
  {
   "cell_type": "code",
   "execution_count": null,
   "id": "71da5039-33cf-4f60-b3c6-03b649bb8523",
   "metadata": {},
   "outputs": [],
   "source": [
    "a = [1,2,3,'a',True,(3,4)]\n",
    "a[0] = \"a\"                    # 인덱스로 특정 리스트 함옥에 접근하여 대체 입력 함. 1 을 \"a\" 로 대체 함. 0 은 리스트의 첫번째 요소를 가리키는 인덱스\n",
    "                              # 인덱스는 0부터 시작해서 1씩 카운트를 더해서 각 리스트 요소를 지정하게 됨.\n",
    "                              # 인덱스[-1] 은 리스트 맨 끝 요소를 특정하며 -1, -2 와 같이 리스트의 마지막 요소부터 앞쪽으로 카운팅할 수 있음.\n",
    "print(a)\n",
    "a[1:3] = ['aaa', 9]           # 리스트 인덱스를 슬라이싱 [1:3], 스타트 인덱스 1, 스톱 인덱스 3 즉, 인덱스 1과 2에 해당하는 리스트 함옥이 대체 됨\n",
    "print(a)\n",
    "a[0] = ''\n",
    "print(a)                      # ['', 'aaa', 9, 'a', True, (3, 4)]\n",
    "a[1] = a[1].replace('a','c')  # a[1] 은 string 이기 때문에 str.replace() 메소드로 바꾸고 싶은 문자열로 변경할 수 있음.\n",
    "print(type(a[1]))\n",
    "a"
   ]
  },
  {
   "cell_type": "markdown",
   "id": "1363dce9-504b-414f-90ed-ab3ffb0afa8e",
   "metadata": {},
   "source": [
    "#### list append , insert"
   ]
  },
  {
   "cell_type": "code",
   "execution_count": 40,
   "id": "744a75b4-6380-494e-aeb5-bf49b31e9655",
   "metadata": {},
   "outputs": [
    {
     "name": "stdout",
     "output_type": "stream",
     "text": [
      "[1, 2, 3, 'a', True, (3, 4), [3, 4]]\n"
     ]
    }
   ],
   "source": [
    "# append\n",
    "a = [1,2,3,'a',True,(3,4)]\n",
    "a.append([3,4])\n",
    "print(a)"
   ]
  },
  {
   "cell_type": "code",
   "execution_count": 46,
   "id": "f2ce21b3-504e-4462-acb0-6746fc087228",
   "metadata": {},
   "outputs": [
    {
     "name": "stdout",
     "output_type": "stream",
     "text": [
      "[1, 'aaa', 2, 3, 'a', True, (3, 4)]\n",
      "[1, 'aaa', (2, 'que'), 2, 3, 'a', True, (3, 4)]\n"
     ]
    }
   ],
   "source": [
    "# insert\n",
    "a = [1,2,3,'a',True,(3,4)]\n",
    "a.insert(1, 'aaa')\n",
    "print(a)                           \n",
    "a.insert(2,(2,\"que\"))\n",
    "print(a)"
   ]
  },
  {
   "cell_type": "markdown",
   "id": "7c530a33-3cde-46e1-8099-f7f67e343f9f",
   "metadata": {},
   "source": [
    "#### 리스트 부분 삭제"
   ]
  },
  {
   "cell_type": "code",
   "execution_count": 36,
   "id": "f80ab97c-c275-4e29-96a2-d0114fa33e61",
   "metadata": {},
   "outputs": [
    {
     "name": "stdout",
     "output_type": "stream",
     "text": [
      "[1, 2, 'a', True, (3, 4)]\n",
      "None\n"
     ]
    }
   ],
   "source": [
    "a = [1,2,3,'a',True,(3,4)]\n",
    "del a[2]                             # a[2] 리스트 a 의 2번 인덱스 요소를 지움.\n",
    "print(a)\n",
    "print(a.remove(1))\n"
   ]
  },
  {
   "cell_type": "markdown",
   "id": "cb87e955-68e7-4c53-82b6-1d6d41325276",
   "metadata": {},
   "source": [
    "#### 리스트 메소드"
   ]
  },
  {
   "cell_type": "code",
   "execution_count": null,
   "id": "8ee3bc65-176c-4931-8489-e8d5c5f33950",
   "metadata": {},
   "outputs": [],
   "source": [
    "# list.sort(), list.reverse()"
   ]
  },
  {
   "cell_type": "code",
   "execution_count": 32,
   "id": "97dfb874-5ff2-4f2d-8e33-75dc7e9204a6",
   "metadata": {},
   "outputs": [
    {
     "name": "stdout",
     "output_type": "stream",
     "text": [
      "['abl', 'cde', 'qmj', 'qqq']\n",
      "[3, 4, 5, 7, 9]\n",
      "[(3, '공장'), (2, '부둣가'), (1, '창고')]\n",
      "['lmn', 'def', 'abc']\n",
      "['abc', 'lmn', 'luv']\n"
     ]
    }
   ],
   "source": [
    "a = [1,2,3,'a',True,(3,4)]\n",
    "b = ['abc', 'def','lmn']\n",
    "# list.sort(key= '키항목')   list.sort() 메소드는 동일 종류의 리스트내 요소들만 sorting 할 수 있음. 즉, string 은 string 끼리, 숫자는 숫자끼리\n",
    "a=['qqq', 'abl', 'cde','qmj']   # 문자열로 구성된 리스트의  sort()\n",
    "a.sort()\n",
    "print(a)\n",
    "\n",
    "c = [5, 3, 7, 9, 4]             # 숫자로 구성된 리스트의 sort()\n",
    "c.sort()\n",
    "print(c)\n",
    "\n",
    "\n",
    "d= [(3, \"공장\"), (1,\"창고\"), (2, \"부둣가\")]      # d.sort(key = 비교하고자하는 키아이템,[reverse = False]) , 리스트 d 의 요소가 동일한 자료형인경우만 sorting 이 가능함.\n",
    "d.sort(key=(lambda tpl: tpl[1]))                 # 리스트의 tuple 항목중 1번 인덱스에 해당하는 스트링을 기준으로 sorting 함.\n",
    "print(d)\n",
    "\n",
    "list.reverse(b)\n",
    "print(b)\n",
    "\n",
    "from operator import itemgetter, attrgetter\n",
    "\n",
    "b = ['luv', 'abc','lmn']\n",
    "b = sorted(b,key=(lambda str: str[1]))          # sorted(a, key) 함수는 key 값을 비교하기 위한 기준으로 sorting 된 결과를 반환하지만 리스트의 내용을 바꾸지난 \n",
    "print(b)"
   ]
  },
  {
   "cell_type": "code",
   "execution_count": 141,
   "id": "9a943987-b91b-421e-bdde-cf3b06f4ea5d",
   "metadata": {},
   "outputs": [
    {
     "data": {
      "text/plain": [
       "['abc', 'def', 'lmn']"
      ]
     },
     "execution_count": 141,
     "metadata": {},
     "output_type": "execute_result"
    }
   ],
   "source": [
    "b = ['def', 'abc','lmn']\n",
    "sorted(b, key=(lambda s:s[len(s)//2]))"
   ]
  },
  {
   "cell_type": "code",
   "execution_count": 126,
   "id": "d42966ae-58d1-4b51-87eb-de126582c9ca",
   "metadata": {},
   "outputs": [
    {
     "data": {
      "text/plain": [
       "[('dave', 'B', 10), ('jane', 'B', 12), ('john', 'A', 15)]"
      ]
     },
     "execution_count": 126,
     "metadata": {},
     "output_type": "execute_result"
    }
   ],
   "source": [
    "student_tuples = [\n",
    "    ('john', 'A', 15),\n",
    "    ('jane', 'B', 12),\n",
    "    ('dave', 'B', 10),\n",
    "]\n",
    "sorted(student_tuples, key=lambda tpl: tpl[2])   # sort by age\n",
    "                                                 # 반환결과는 : [('dave', 'B', 10), ('jane', 'B', 12), ('john', 'A', 15)]"
   ]
  },
  {
   "cell_type": "markdown",
   "id": "7ad3820d-2e62-450a-b480-6cd62a5434d4",
   "metadata": {},
   "source": [
    "##### 리스트 인덱스"
   ]
  },
  {
   "cell_type": "code",
   "execution_count": 68,
   "id": "e2b7dc02-229d-465c-89ce-2fa33d086c02",
   "metadata": {},
   "outputs": [
    {
     "data": {
      "text/plain": [
       "1"
      ]
     },
     "execution_count": 68,
     "metadata": {},
     "output_type": "execute_result"
    }
   ],
   "source": [
    "a = ['a','b','c']\n",
    "a.index('b')         # 'b' 가 리스트 a 에 존재한다면, 그 'b' 가 리스트 내에 어느 인덱스로 지정할 수 있는지 반환. 이 경우는 a[1] 이 'b' 이기 때문에 1을 반환 함."
   ]
  },
  {
   "cell_type": "markdown",
   "id": "e83c6858-e59a-4aa5-b875-ee4f9e45ecdc",
   "metadata": {},
   "source": [
    "##### 리스트 pop \n",
    "- 리스트의 마지막 요소부터 꺼내고 꺼내어진 요소는 리스트로부터 제거함."
   ]
  },
  {
   "cell_type": "code",
   "execution_count": 74,
   "id": "8e9e9da0-5319-4c17-9770-8085abdbbcf5",
   "metadata": {},
   "outputs": [
    {
     "name": "stdout",
     "output_type": "stream",
     "text": [
      "('dave', 'B', 10)\n",
      "[('john', 'A', 15), ('jane', 'B', 12)]\n",
      "('jane', 'B', 12)\n",
      "[('john', 'A', 15), ('dave', 'B', 10)]\n"
     ]
    }
   ],
   "source": [
    "student_tuples = [\n",
    "    ('john', 'A', 15),\n",
    "    ('jane', 'B', 12),\n",
    "    ('dave', 'B', 10),\n",
    "]\n",
    "print(student_tuples.pop())    # FILO 마지막 리스트이 요소부터 꺼내어지고 리스트로부터 제거 됨.\n",
    "print(student_tuples)     \n",
    "\n",
    "student_tuples = [\n",
    "    ('john', 'A', 15),\n",
    "    ('jane', 'B', 12),\n",
    "    ('dave', 'B', 10),\n",
    "]\n",
    "print(student_tuples.pop(1))   # student_tuples의 인덱스 1번 요소를 추출하고 리스트로부터 제거\n",
    "print(student_tuples)          # 인덱스1번 요소가 추출되고 남은 리스트 내용 출력"
   ]
  },
  {
   "cell_type": "markdown",
   "id": "0dd6a070-f570-433f-be5b-59c21b5f60b3",
   "metadata": {},
   "source": [
    "##### 리스트 카운트 \n",
    "- 리스트에 포함된 요소 x 의 갯수 세기"
   ]
  },
  {
   "cell_type": "code",
   "execution_count": 80,
   "id": "1db030ee-a7a7-4c0e-bc94-460523b24851",
   "metadata": {},
   "outputs": [
    {
     "data": {
      "text/plain": [
       "3"
      ]
     },
     "execution_count": 80,
     "metadata": {},
     "output_type": "execute_result"
    }
   ],
   "source": [
    "a = [1,2,3,5,7,11,1,1]\n",
    "a.count(1)                # 리스트 내에 1이라는 엘레멘트가 몇개가 포함되어 있는지 반환. 3 반환.리스트에 1이 3개가 있음."
   ]
  },
  {
   "cell_type": "markdown",
   "id": "aff6d2ed-4493-44a1-acdc-b972407577f7",
   "metadata": {},
   "source": [
    "##### 리스트확장 extend"
   ]
  },
  {
   "cell_type": "code",
   "execution_count": 82,
   "id": "9d143d6b-d983-4ca0-9894-816ce55d90e2",
   "metadata": {},
   "outputs": [
    {
     "name": "stdout",
     "output_type": "stream",
     "text": [
      "[1, 2, 3, 5, 7, 11, 1, 1, 20, 30]\n"
     ]
    }
   ],
   "source": [
    "a = [1,2,3,5,7,11,1,1]\n",
    "a.extend([20,30])\n",
    "print(a)"
   ]
  },
  {
   "cell_type": "markdown",
   "id": "aa3e65e6-ea66-4081-81c9-6b6b71ac359e",
   "metadata": {},
   "source": [
    "### 딕셔너리 dictionary\n",
    "- 딕셔너리 선언 , 입력\n",
    "    : a={}, 또는 a = dict()\n",
    "  1. 딕셔너리 {\"key\":\"value\"} 로 구성된 구조\n",
    "     1.1 {'키1':3, '키2':'뮤'}"
   ]
  },
  {
   "cell_type": "markdown",
   "id": "fb30ec8c-5fa5-4f97-b7cb-a350e7653981",
   "metadata": {},
   "source": [
    "#### 딕셔너리 선언"
   ]
  },
  {
   "cell_type": "code",
   "execution_count": 51,
   "id": "bca80dda-4894-450b-bfce-fe0a76f313e6",
   "metadata": {},
   "outputs": [
    {
     "name": "stdout",
     "output_type": "stream",
     "text": [
      "<class 'dict'>\n",
      "<class 'dict'>\n"
     ]
    }
   ],
   "source": [
    "a = {}\n",
    "b = dict()\n",
    "print(type(a))\n",
    "print(type(b))"
   ]
  },
  {
   "cell_type": "markdown",
   "id": "401b970f-ebbb-4a2f-9480-d0f5da76bf03",
   "metadata": {},
   "source": [
    "#### 딕셔너리 입력"
   ]
  },
  {
   "cell_type": "code",
   "execution_count": 64,
   "id": "84a96b1f-637e-402d-9469-4ac4702bc879",
   "metadata": {},
   "outputs": [
    {
     "name": "stdout",
     "output_type": "stream",
     "text": [
      "<class 'dict'>\n",
      "{'키1': 3, '키2': '뮤'}\n"
     ]
    }
   ],
   "source": [
    "# 딕셔너리 입력\n",
    "a = {'키1':3, '키2':'뮤'}\n",
    "print(type(a))\n",
    "print(a)"
   ]
  },
  {
   "cell_type": "markdown",
   "id": "439f8b30-b5a5-40d7-9bf7-22ae059f6f28",
   "metadata": {},
   "source": [
    "#### 딕셔너리 엘레멘트 삭제"
   ]
  },
  {
   "cell_type": "markdown",
   "id": "63ba5953-d7e3-45f3-b29b-34c318c7be1a",
   "metadata": {},
   "source": [
    "##### del 메소드 이용"
   ]
  },
  {
   "cell_type": "code",
   "execution_count": 9,
   "id": "9418fadc-fb46-4aff-b525-95da9cb2fd71",
   "metadata": {},
   "outputs": [
    {
     "name": "stdout",
     "output_type": "stream",
     "text": [
      "{'a': 1, 'c': 3}\n"
     ]
    }
   ],
   "source": [
    "my_dict = {'a': 1, 'b': 2, 'c': 3}\n",
    "del my_dict['b']\n",
    "print(my_dict)  # {'a': 1, 'c': 3}"
   ]
  },
  {
   "cell_type": "markdown",
   "id": "635e4fb3-4490-4e99-9b0b-e18bddeebd13",
   "metadata": {},
   "source": [
    "##### pop 메소드 이용"
   ]
  },
  {
   "cell_type": "code",
   "execution_count": 11,
   "id": "43120041-79a8-470d-a243-acd9dbf701b5",
   "metadata": {},
   "outputs": [
    {
     "name": "stdout",
     "output_type": "stream",
     "text": [
      "{'a': 1, 'c': 3}\n",
      "2\n"
     ]
    }
   ],
   "source": [
    "my_dict = {'a': 1, 'b': 2, 'c': 3}\n",
    "value = my_dict.pop('b')\n",
    "print(my_dict)  # {'a': 1, 'c': 3}\n",
    "print(value)    # 2\n"
   ]
  },
  {
   "cell_type": "markdown",
   "id": "8ecd7e26-5dba-4eb8-8941-2af56b936a11",
   "metadata": {},
   "source": [
    "##### popitem() 메소드 이용"
   ]
  },
  {
   "cell_type": "code",
   "execution_count": null,
   "id": "7728925f-db5c-4b9e-8d01-a4f8c7ff7280",
   "metadata": {},
   "outputs": [],
   "source": [
    "my_dict = {'a': 1, 'b': 2, 'c': 3}\n",
    "item = my_dict.popitem()\n",
    "print(my_dict)  # {'a': 1, 'b': 2}\n",
    "print(item)     # ('c', 3)\n"
   ]
  },
  {
   "cell_type": "markdown",
   "id": "167e34f1-5723-430f-b3c4-2a12d78ffbcc",
   "metadata": {},
   "source": [
    "##### clear() 메서드 이용"
   ]
  },
  {
   "cell_type": "code",
   "execution_count": 13,
   "id": "7e06f60f-4f7f-4e2e-9fe3-81f5708b6ff1",
   "metadata": {},
   "outputs": [
    {
     "name": "stdout",
     "output_type": "stream",
     "text": [
      "{'a': 1, 'b': 2, 'c': 3}\n"
     ]
    },
    {
     "data": {
      "text/plain": [
       "dict_keys(['a', 'b', 'c'])"
      ]
     },
     "execution_count": 13,
     "metadata": {},
     "output_type": "execute_result"
    }
   ],
   "source": [
    "my_dict = {'a': 1, 'b': 2, 'c': 3}\n",
    "my_dict.clear()\n",
    "print(my_dict)  # {}"
   ]
  },
  {
   "cell_type": "markdown",
   "id": "527b1934-5080-4609-b49c-1d2b53610f29",
   "metadata": {},
   "source": [
    "##### 이해(list comprehension)를 통한 딕셔너리 재구성: 특정 조건을 만족하는 키-값 쌍만 남기고 다시 딕셔너리를 구성합니다."
   ]
  },
  {
   "cell_type": "code",
   "execution_count": 14,
   "id": "aacaa407-d397-493a-b1aa-ca54a4bb31b2",
   "metadata": {},
   "outputs": [
    {
     "name": "stdout",
     "output_type": "stream",
     "text": [
      "{'a': 1, 'c': 3}\n"
     ]
    }
   ],
   "source": [
    "my_dict = {'a': 1, 'b': 0, 'c': 3}\n",
    "my_dict = {k: v for k, v in my_dict.items() if v != 0}\n",
    "print(my_dict)  # {'a': 1, 'c': 3}\n"
   ]
  },
  {
   "cell_type": "markdown",
   "id": "d293bc06-13a3-4057-b282-0b7263ea2820",
   "metadata": {},
   "source": [
    "#### 딕셔너리 사용 예제"
   ]
  },
  {
   "cell_type": "code",
   "execution_count": 83,
   "id": "f75fd8a1-a996-41f0-9584-0a36da4711c0",
   "metadata": {},
   "outputs": [
    {
     "name": "stdout",
     "output_type": "stream",
     "text": [
      "평균 성적: 86.25\n"
     ]
    }
   ],
   "source": [
    "# 학생들의 성적을 저장하는 딕셔너리\n",
    "grades = {\n",
    "    'Alice': 85,\n",
    "    'Bob': 92,\n",
    "    'Charlie': 78,\n",
    "    'David': 90\n",
    "}\n",
    "\n",
    "# 평균 성적 계산\n",
    "total = sum(grades.values())\n",
    "average = total / len(grades)\n",
    "\n",
    "print(f\"평균 성적: {average:.2f}\")\n"
   ]
  },
  {
   "cell_type": "code",
   "execution_count": 95,
   "id": "3dd44afe-dcc0-4cf8-96a8-98d9b040f0c9",
   "metadata": {},
   "outputs": [
    {
     "name": "stdout",
     "output_type": "stream",
     "text": [
      "dict_values([85, 92, 78, 90])\n",
      "12\n",
      "total =  345\n",
      "평균 =  86.25\n"
     ]
    }
   ],
   "source": [
    "grades = {\n",
    "    'Alice': 85,\n",
    "    'Bob': 92,\n",
    "    'Charlie': 78,\n",
    "    'David': 90\n",
    "}\n",
    "print(grades.values())\n",
    "print(sum([3,4,5]))\n",
    "print('total = ',sum(grades.values()))\n",
    "print('평균 = ', sum(grades.values())/len(grades))"
   ]
  },
  {
   "cell_type": "code",
   "execution_count": null,
   "id": "ed135ed4-482e-4565-a6db-704b5c1f8782",
   "metadata": {},
   "outputs": [],
   "source": []
  },
  {
   "cell_type": "code",
   "execution_count": null,
   "id": "82f5d7af-78c2-4720-88e9-49bfa310944a",
   "metadata": {},
   "outputs": [],
   "source": []
  },
  {
   "cell_type": "code",
   "execution_count": null,
   "id": "c5641386-f300-45e8-accf-a36921c60b14",
   "metadata": {},
   "outputs": [],
   "source": []
  },
  {
   "cell_type": "markdown",
   "id": "9663b3db-a242-4c5a-98c8-994d7395d2a0",
   "metadata": {},
   "source": [
    "#### 딕셔너리 엘레멘트 지정 수정"
   ]
  },
  {
   "cell_type": "code",
   "execution_count": 119,
   "id": "6c2a2499-609f-4623-9217-d49987a4dcc5",
   "metadata": {},
   "outputs": [
    {
     "name": "stdout",
     "output_type": "stream",
     "text": [
      "3\n",
      "{'키1': 3, '키2': '구', 1: '중'}\n",
      "{'키1': 3, '키2': '구', 1: '상'}\n"
     ]
    }
   ],
   "source": [
    "\n",
    "# 딕셔너리 데이터에 접근하는 것은 키를 통해서 접근하게 됨\n",
    "a = {'키1':3, '키2':'뮤'}\n",
    "print(a['키1'])           # '키1' 의 키에 대응하는 value 인 3 이 출력됨.\n",
    "a[1] ='중'                # 딕셔너리의 a[1] 여기서 1은 키값으로 키값이 기존 딕셔너리 내부에 없으면 추가 {'키1': 3, '키2': '뮤', 1: '중'}\n",
    "a['키2'] = '구'\n",
    "print(a)\n",
    "a[1] = '상'\n",
    "print(a)"
   ]
  },
  {
   "cell_type": "markdown",
   "id": "07185d3e-d3f0-47e9-8c20-d3c3d5e61e9d",
   "metadata": {},
   "source": [
    "#### 딕셔너리 이용한 예제 프로그램 코드"
   ]
  },
  {
   "cell_type": "code",
   "execution_count": 160,
   "id": "cecd9d7e-2165-4907-8bdd-f23079e16316",
   "metadata": {},
   "outputs": [
    {
     "name": "stdout",
     "output_type": "stream",
     "text": [
      "{'hello': 2, 'world': 2, 'python': 2, 'dictionary': 1}\n"
     ]
    }
   ],
   "source": [
    "# \"hello world hello python world python dictionalry\" 에 단어가 몇 개씩 중복되었는지 dictionary 로 counting 해서 출력 {'hello' : 2, 'world':2, 'python':2, 'dictionalry':1}\n",
    "# 단어 빈도수를 저장하는 딕셔너리\n",
    "\n",
    "text = \"hello world hello python world python dictionary\"\n",
    "word_count = dict()\n",
    "for word in text.split():     # text.split() 는 문자열을 리스트로 분리해 줌.\n",
    "    if word in word_count:\n",
    "        word_count[word] += 1\n",
    "    else:\n",
    "        word_count[word] = 1\n",
    "print(word_count)\n",
    "    \n",
    "\n"
   ]
  },
  {
   "cell_type": "code",
   "execution_count": 150,
   "id": "c9964bfa-304f-4592-89a9-a689a5c0fc93",
   "metadata": {},
   "outputs": [
    {
     "name": "stdout",
     "output_type": "stream",
     "text": [
      "dict_values([85, 92, 78, 90])\n",
      "Total = \t 345\n",
      "Average = \t 86.25\n"
     ]
    }
   ],
   "source": [
    "# 학생들의 성적을 저장하는 딕셔너리\n",
    "grades = {\n",
    "    'Alice': 85,\n",
    "    'Bob': 92,\n",
    "    'Charlie': 78,\n",
    "    'David': 90\n",
    "}\n",
    "student_grades = grades.values()\n",
    "print(student_grades)\n",
    "Total = sum(student_grades)\n",
    "print('Total = \\t', Total)\n",
    "print('Average = \\t', Total/len(student_grades))\n"
   ]
  },
  {
   "cell_type": "code",
   "execution_count": null,
   "id": "0847ca37-53eb-4cb8-b1f7-c9fac00c4b0b",
   "metadata": {},
   "outputs": [],
   "source": [
    "# 학생들의 성적을 저장하는 딕셔너리 방법1\n",
    "grades = {\n",
    "    'Alice': 85,\n",
    "    'Bob': 92,\n",
    "    'Charlie': 78,\n",
    "    'David': 90\n",
    "}\n",
    "\n",
    "# 평균 성적 계산\n",
    "total = sum(grades.values())\n",
    "average = total / len(grades)\n",
    "\n",
    "print(f\"평균 성적: {average:.2f}\")\n",
    "\n"
   ]
  },
  {
   "cell_type": "code",
   "execution_count": 154,
   "id": "c1bfabd5-c7c6-48c6-b15e-ff803982ba99",
   "metadata": {},
   "outputs": [
    {
     "name": "stdout",
     "output_type": "stream",
     "text": [
      "Total = \t 345\n",
      "Average = \t 86.25\n"
     ]
    }
   ],
   "source": [
    "# 학생들의 성적을 저장하는 딕셔너리 방법2\n",
    "grades = {\n",
    "    'Alice': 85,\n",
    "    'Bob': 92,\n",
    "    'Charlie': 78,\n",
    "    'David': 90\n",
    "}\n",
    "total = 0\n",
    "for grade in grades:\n",
    "    total += grades[grade]\n",
    "\n",
    "print('Total = \\t',total)\n",
    "print('Average = \\t', total/len(grades))"
   ]
  },
  {
   "cell_type": "code",
   "execution_count": 158,
   "id": "b60773a4-c230-4292-b712-6eedf8d6675e",
   "metadata": {},
   "outputs": [
    {
     "name": "stdout",
     "output_type": "stream",
     "text": [
      "Total = \t 345\n",
      "Average = \t 86.25\n"
     ]
    }
   ],
   "source": [
    "# 학생들의 성적을 저장하는 딕셔너리의 value 를 split() 메소드로 추출하고 해당 추출 결과를 list로 만들어 활요 방법2\n",
    "grades = {\n",
    "    'Alice': 85,\n",
    "    'Bob': 92,\n",
    "    'Charlie': 78,\n",
    "    'David': 90\n",
    "}\n",
    "grades_values = list(grades.values())\n",
    "total = 0\n",
    "for grades_value in grades_values:\n",
    "    total += grades_value\n",
    "print('Total = \\t', total)\n",
    "print('Average = \\t',total/len(grades))\n",
    "\n"
   ]
  },
  {
   "cell_type": "code",
   "execution_count": 159,
   "id": "c372168d-fbb6-49cd-b642-62f1fc7568f7",
   "metadata": {},
   "outputs": [
    {
     "name": "stdout",
     "output_type": "stream",
     "text": [
      "Total = \t 345\n",
      "Average = \t 86.25\n"
     ]
    }
   ],
   "source": [
    "# 학생들의 성적을 저장하는 딕셔너리의 각 요소를 key 와 value 로 for 문에서 받고 iterable 은 grades 방법3\n",
    "grades = {\n",
    "    'Alice': 85,\n",
    "    'Bob': 92,\n",
    "    'Charlie': 78,\n",
    "    'David': 90\n",
    "}\n",
    "total = 0\n",
    "for key, value in grades.items():\n",
    "    total += value\n",
    "\n",
    "print('Total = \\t', total)\n",
    "print('Average = \\t', total/len(grades))\n"
   ]
  },
  {
   "cell_type": "markdown",
   "id": "b8fd1c3d-39be-4978-b413-5420284f47be",
   "metadata": {},
   "source": [
    "### 튜플 tuple"
   ]
  },
  {
   "cell_type": "markdown",
   "id": "3daae521-dc9d-4f34-89f9-a651a1b8dbab",
   "metadata": {},
   "source": [
    "#### 튜플 선언"
   ]
  },
  {
   "cell_type": "code",
   "execution_count": 164,
   "id": "1f6d7610-d92c-4d03-b788-ab17c858a31c",
   "metadata": {},
   "outputs": [
    {
     "name": "stdout",
     "output_type": "stream",
     "text": [
      "<class 'tuple'>\n",
      "<class 'tuple'>\n"
     ]
    }
   ],
   "source": [
    "t = ()\n",
    "print(type(t))\n",
    "t1 = tuple()\n",
    "print(type(t1))"
   ]
  },
  {
   "cell_type": "markdown",
   "id": "d1504a84-a1e6-4ddc-8d8d-abfb0945584c",
   "metadata": {},
   "source": [
    "#### 튜플 입력"
   ]
  },
  {
   "cell_type": "code",
   "execution_count": 169,
   "id": "d7618f3e-9e26-46b2-9a18-e073d554f8b2",
   "metadata": {},
   "outputs": [],
   "source": [
    "# Tuple 입력\n",
    "t =()                           # 빈 튜플 \n",
    "t2 = (1.0)                      # 요소가 1.0 인 튜플, ( ) 로 튜플을 입력\n",
    "t3 = (1,2,3)\n",
    "t4 = 1, 2, 3\n",
    "t5 = ('a', 'b', ('ab', 'cd'))\n"
   ]
  },
  {
   "cell_type": "code",
   "execution_count": null,
   "id": "2903c27a-0ad5-4a33-a5fa-705dca949eaf",
   "metadata": {},
   "outputs": [],
   "source": []
  },
  {
   "cell_type": "markdown",
   "id": "0a492604-6bc0-464b-812e-06548822dcda",
   "metadata": {},
   "source": [
    "#### 튜플 엘레멘트 삭제 / 수정 \n",
    "- 튜플 요소의 삭제/수정은 불가."
   ]
  },
  {
   "cell_type": "markdown",
   "id": "883ef268-2f4b-4bbf-b26c-968cb55158c3",
   "metadata": {},
   "source": []
  },
  {
   "cell_type": "markdown",
   "id": "81dbc41a-8fe7-4860-923d-a9ffd92f09dc",
   "metadata": {},
   "source": []
  },
  {
   "cell_type": "markdown",
   "id": "eeac1485-460d-462f-9b4b-9ae04cf79cec",
   "metadata": {},
   "source": []
  },
  {
   "cell_type": "code",
   "execution_count": null,
   "id": "8a993216-9f57-44e1-9881-c464d885f9ed",
   "metadata": {},
   "outputs": [],
   "source": []
  },
  {
   "cell_type": "markdown",
   "id": "8581ef4b-9054-4007-b0ca-42154760a50b",
   "metadata": {},
   "source": [
    "### 집합 set"
   ]
  },
  {
   "cell_type": "markdown",
   "id": "9f93b264-d85d-4536-b56f-53792dd98192",
   "metadata": {},
   "source": []
  },
  {
   "cell_type": "markdown",
   "id": "23760899-c46e-4453-8812-0eb2754100a6",
   "metadata": {},
   "source": [
    "## 변수와 입력"
   ]
  },
  {
   "cell_type": "markdown",
   "id": "2e930a28-c5c9-4dcb-95ee-d5969e83aafe",
   "metadata": {},
   "source": [
    "### 변수 만들기 / 사용하기\n",
    "- 변수 = 값"
   ]
  },
  {
   "cell_type": "code",
   "execution_count": 42,
   "id": "524556a1-d492-4709-9c33-adc5cb53d70f",
   "metadata": {},
   "outputs": [
    {
     "name": "stdout",
     "output_type": "stream",
     "text": [
      "3.141592 6.283184\n"
     ]
    }
   ],
   "source": [
    "pi = 3.141592\n",
    "\n",
    "print(pi, pi*2)"
   ]
  },
  {
   "cell_type": "code",
   "execution_count": null,
   "id": "a9a57af4-fe03-4046-a02c-ae831ee7be56",
   "metadata": {},
   "outputs": [],
   "source": []
  },
  {
   "cell_type": "code",
   "execution_count": null,
   "id": "26bc67a8-c778-4b61-a77c-0cbeb28e3220",
   "metadata": {},
   "outputs": [],
   "source": []
  },
  {
   "cell_type": "code",
   "execution_count": null,
   "id": "c5e135d9-2a00-468f-b11f-50e7215894fa",
   "metadata": {},
   "outputs": [],
   "source": []
  },
  {
   "cell_type": "code",
   "execution_count": null,
   "id": "12538c4c-1f71-429e-9d49-675b7afd3709",
   "metadata": {},
   "outputs": [],
   "source": []
  },
  {
   "cell_type": "code",
   "execution_count": null,
   "id": "5eebd2c6-bb0d-44ba-89fc-24e0ecafbdf7",
   "metadata": {},
   "outputs": [],
   "source": []
  }
 ],
 "metadata": {
  "kernelspec": {
   "display_name": "Python 3 (ipykernel)",
   "language": "python",
   "name": "python3"
  },
  "language_info": {
   "codemirror_mode": {
    "name": "ipython",
    "version": 3
   },
   "file_extension": ".py",
   "mimetype": "text/x-python",
   "name": "python",
   "nbconvert_exporter": "python",
   "pygments_lexer": "ipython3",
   "version": "3.11.7"
  }
 },
 "nbformat": 4,
 "nbformat_minor": 5
}
